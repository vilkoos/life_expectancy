{
 "cells": [
  {
   "cell_type": "markdown",
   "metadata": {},
   "source": [
    "intro bla bla"
   ]
  },
  {
   "cell_type": "markdown",
   "metadata": {},
   "source": [
    "# 1 - Import libraries"
   ]
  },
  {
   "cell_type": "code",
   "execution_count": 35,
   "metadata": {
    "collapsed": false
   },
   "outputs": [],
   "source": [
    "import pandas as pd\n",
    "import matplotlib.pyplot as plt\n",
    "import numpy as np\n",
    "import statsmodels.api as sm"
   ]
  },
  {
   "cell_type": "markdown",
   "metadata": {},
   "source": [
    "# 2 - Read and transform data"
   ]
  },
  {
   "cell_type": "code",
   "execution_count": 2,
   "metadata": {
    "collapsed": true
   },
   "outputs": [],
   "source": [
    "# read the data from de .csv file ---------------------\n",
    "data = pd.read_csv('country_INC_LE_IR.csv')"
   ]
  },
  {
   "cell_type": "code",
   "execution_count": 3,
   "metadata": {
    "collapsed": false
   },
   "outputs": [
    {
     "data": {
      "text/plain": [
       "(180, 4)"
      ]
     },
     "execution_count": 3,
     "metadata": {},
     "output_type": "execute_result"
    }
   ],
   "source": [
    "# check the size of the data -------------------------\n",
    "data.shape"
   ]
  },
  {
   "cell_type": "code",
   "execution_count": 4,
   "metadata": {
    "collapsed": false
   },
   "outputs": [
    {
     "data": {
      "text/plain": [
       "country    0\n",
       "INC        0\n",
       "LE         0\n",
       "IR         0\n",
       "dtype: int64"
      ]
     },
     "execution_count": 4,
     "metadata": {},
     "output_type": "execute_result"
    }
   ],
   "source": [
    "# check for null's ------------------------------------\n",
    "data.isnull().sum()\n",
    "# no null values in data"
   ]
  },
  {
   "cell_type": "code",
   "execution_count": 5,
   "metadata": {
    "collapsed": true
   },
   "outputs": [],
   "source": [
    "## show all data to check for strange values ----------\n",
    "#pd.set_option('display.max_rows', len(data))\n",
    "#data\n",
    "## all values are OK "
   ]
  },
  {
   "cell_type": "code",
   "execution_count": 6,
   "metadata": {
    "collapsed": false
   },
   "outputs": [
    {
     "data": {
      "text/html": [
       "<div>\n",
       "<table border=\"1\" class=\"dataframe\">\n",
       "  <thead>\n",
       "    <tr style=\"text-align: right;\">\n",
       "      <th></th>\n",
       "      <th>country</th>\n",
       "      <th>INC</th>\n",
       "      <th>LE</th>\n",
       "      <th>IR</th>\n",
       "    </tr>\n",
       "  </thead>\n",
       "  <tbody>\n",
       "    <tr>\n",
       "      <th>0</th>\n",
       "      <td>Afghanistan</td>\n",
       "      <td>1637</td>\n",
       "      <td>55</td>\n",
       "      <td>4</td>\n",
       "    </tr>\n",
       "    <tr>\n",
       "      <th>1</th>\n",
       "      <td>Albania</td>\n",
       "      <td>9374</td>\n",
       "      <td>76</td>\n",
       "      <td>45</td>\n",
       "    </tr>\n",
       "    <tr>\n",
       "      <th>2</th>\n",
       "      <td>Algeria</td>\n",
       "      <td>12494</td>\n",
       "      <td>76</td>\n",
       "      <td>12</td>\n",
       "    </tr>\n",
       "    <tr>\n",
       "      <th>3</th>\n",
       "      <td>Andorra</td>\n",
       "      <td>38982</td>\n",
       "      <td>84</td>\n",
       "      <td>81</td>\n",
       "    </tr>\n",
       "    <tr>\n",
       "      <th>4</th>\n",
       "      <td>Angola</td>\n",
       "      <td>7047</td>\n",
       "      <td>60</td>\n",
       "      <td>10</td>\n",
       "    </tr>\n",
       "  </tbody>\n",
       "</table>\n",
       "</div>"
      ],
      "text/plain": [
       "       country    INC  LE  IR\n",
       "0  Afghanistan   1637  55   4\n",
       "1      Albania   9374  76  45\n",
       "2      Algeria  12494  76  12\n",
       "3      Andorra  38982  84  81\n",
       "4       Angola   7047  60  10"
      ]
     },
     "execution_count": 6,
     "metadata": {},
     "output_type": "execute_result"
    }
   ],
   "source": [
    "# show example data -----------------------------------\n",
    "data.head()"
   ]
  },
  {
   "cell_type": "markdown",
   "metadata": {},
   "source": [
    "**Transform** INC by replacing its vaule with the log of that value"
   ]
  },
  {
   "cell_type": "code",
   "execution_count": 11,
   "metadata": {
    "collapsed": false
   },
   "outputs": [
    {
     "data": {
      "text/html": [
       "<div>\n",
       "<table border=\"1\" class=\"dataframe\">\n",
       "  <thead>\n",
       "    <tr style=\"text-align: right;\">\n",
       "      <th></th>\n",
       "      <th>country</th>\n",
       "      <th>INC</th>\n",
       "      <th>LE</th>\n",
       "      <th>IR</th>\n",
       "    </tr>\n",
       "  </thead>\n",
       "  <tbody>\n",
       "    <tr>\n",
       "      <th>0</th>\n",
       "      <td>Afghanistan</td>\n",
       "      <td>7.40</td>\n",
       "      <td>55</td>\n",
       "      <td>4</td>\n",
       "    </tr>\n",
       "    <tr>\n",
       "      <th>1</th>\n",
       "      <td>Albania</td>\n",
       "      <td>9.15</td>\n",
       "      <td>76</td>\n",
       "      <td>45</td>\n",
       "    </tr>\n",
       "    <tr>\n",
       "      <th>2</th>\n",
       "      <td>Algeria</td>\n",
       "      <td>9.43</td>\n",
       "      <td>76</td>\n",
       "      <td>12</td>\n",
       "    </tr>\n",
       "    <tr>\n",
       "      <th>3</th>\n",
       "      <td>Andorra</td>\n",
       "      <td>10.57</td>\n",
       "      <td>84</td>\n",
       "      <td>81</td>\n",
       "    </tr>\n",
       "    <tr>\n",
       "      <th>4</th>\n",
       "      <td>Angola</td>\n",
       "      <td>8.86</td>\n",
       "      <td>60</td>\n",
       "      <td>10</td>\n",
       "    </tr>\n",
       "  </tbody>\n",
       "</table>\n",
       "</div>"
      ],
      "text/plain": [
       "       country    INC  LE  IR\n",
       "0  Afghanistan   7.40  55   4\n",
       "1      Albania   9.15  76  45\n",
       "2      Algeria   9.43  76  12\n",
       "3      Andorra  10.57  84  81\n",
       "4       Angola   8.86  60  10"
      ]
     },
     "execution_count": 11,
     "metadata": {},
     "output_type": "execute_result"
    }
   ],
   "source": [
    "data['INC'] = np.log(data['INC']).round(2)\n",
    "data.head()"
   ]
  },
  {
   "cell_type": "markdown",
   "metadata": {},
   "source": [
    "**country**: the full name of a country as used by gapminder   \n",
    "\n",
    "**income per person** (INC): logaritm of the 2010 Gross Domestic Product per capita in constant 2000 US$. The inflation but not the differences in the cost of living between countries has been taken into account.  \n",
    "\n",
    "**life expectancy** (LE): 2011 life expectancy at birth (years) The average number of years a newborn child would live if current mortality patterns were to stay the same. **NOTE** rounded to whole years.  \n",
    "\n",
    "**internet use rate** (IR): 2010 Internet users (per 100 people) Internet users are people with access to the worldwide network. **NOTE** rounded to integer. "
   ]
  },
  {
   "cell_type": "markdown",
   "metadata": {},
   "source": [
    "# 3 - Produce figures"
   ]
  },
  {
   "cell_type": "markdown",
   "metadata": {},
   "source": [
    "### Figure 1 - life expectancy for 180 countries"
   ]
  },
  {
   "cell_type": "code",
   "execution_count": 12,
   "metadata": {
    "collapsed": false
   },
   "outputs": [
    {
     "data": {
      "text/plain": [
       "<matplotlib.text.Text at 0x8f1d128>"
      ]
     },
     "execution_count": 12,
     "metadata": {},
     "output_type": "execute_result"
    },
    {
     "data": {
      "image/png": "[encoded data removed]",
      "text/plain": [
       "<matplotlib.figure.Figure at 0x8ef29e8>"
      ]
     },
     "metadata": {},
     "output_type": "display_data"
    }
   ],
   "source": [
    "%matplotlib inline\n",
    "\n",
    "data['LE'].hist(bins=20, grid=True, figsize = (7, 6), alpha=0.5)\n",
    "plt.title('figure 1: distribution of life expectancy over countries')\n",
    "plt.xlabel('life expectancy in years')\n",
    "plt.ylabel('frequency (nr of countries)')"
   ]
  },
  {
   "cell_type": "markdown",
   "metadata": {},
   "source": [
    "### Figure 2 - life expectancy by income"
   ]
  },
  {
   "cell_type": "code",
   "execution_count": 18,
   "metadata": {
    "collapsed": false
   },
   "outputs": [
    {
     "data": {
      "image/png": "[encoded data removed]",
      "text/plain": [
       "<matplotlib.figure.Figure at 0xa7e1d68>"
      ]
     },
     "metadata": {},
     "output_type": "display_data"
    }
   ],
   "source": [
    "data[['INC','LE']].plot(x='INC', y='LE', kind='scatter', logy=True, figsize = (7, 6))\n",
    "plt.title('life expectance by log income')\n",
    "plt.ylabel('life expectancy in years')\n",
    "plt.xlabel('log income')\n",
    "plt.grid(True)\n",
    "plt.ylim((45,90))\n",
    "plt.xlim((6,12))\n",
    "plt.show()"
   ]
  },
  {
   "cell_type": "markdown",
   "metadata": {},
   "source": [
    "### Figure 3 - life expectancy by internet use rate"
   ]
  },
  {
   "cell_type": "code",
   "execution_count": 17,
   "metadata": {
    "collapsed": false
   },
   "outputs": [
    {
     "data": {
      "image/png": "[encoded data removed]",
      "text/plain": [
       "<matplotlib.figure.Figure at 0xa75bba8>"
      ]
     },
     "metadata": {},
     "output_type": "display_data"
    }
   ],
   "source": [
    "data[['IR','LE']].plot(x='IR', y='LE', kind='scatter', logy=True, figsize = (7, 6))\n",
    "plt.title('life expectance by internet use rate')\n",
    "plt.ylabel('life expectancy in years')\n",
    "plt.xlabel('internet use rate')\n",
    "plt.grid(True)\n",
    "plt.ylim((45,90))\n",
    "plt.xlim((-5,100))\n",
    "plt.show()"
   ]
  },
  {
   "cell_type": "markdown",
   "metadata": {},
   "source": [
    "# 4 - Multiple linear regresion model"
   ]
  },
  {
   "cell_type": "code",
   "execution_count": 32,
   "metadata": {
    "collapsed": false
   },
   "outputs": [
    {
     "name": "stdout",
     "output_type": "stream",
     "text": [
      "slope     0.24220540974\n",
      "intercept 62.8662011771\n",
      "r value   0.798644010384\n",
      "p_value   4.12455205999e-41\n",
      "stan dev  0.0136796656665\n"
     ]
    }
   ],
   "source": [
    "slope, intercept, r_value, p_value, std_err = stats.linregress(data['IR'],data['LE'])\n",
    "print( 'slope    ', slope    )\n",
    "print( 'intercept', intercept)\n",
    "print( 'r value  ', r_value  )\n",
    "print( 'p_value  ', p_value  )\n",
    "print( 'stan dev ', std_err  )"
   ]
  },
  {
   "cell_type": "code",
   "execution_count": 33,
   "metadata": {
    "collapsed": false
   },
   "outputs": [
    {
     "name": "stdout",
     "output_type": "stream",
     "text": [
      "slope     5.41892324453\n",
      "intercept 21.6819719557\n",
      "r value   0.797140123618\n",
      "p_value   7.43810862688e-41\n",
      "stan dev  0.307650324324\n"
     ]
    }
   ],
   "source": [
    "slope, intercept, r_value, p_value, std_err = stats.linregress(data['INC'],data['LE'])\n",
    "print( 'slope    ', slope    )\n",
    "print( 'intercept', intercept)\n",
    "print( 'r value  ', r_value  )\n",
    "print( 'p_value  ', p_value  )\n",
    "print( 'stan dev ', std_err  )"
   ]
  },
  {
   "cell_type": "code",
   "execution_count": 46,
   "metadata": {
    "collapsed": false
   },
   "outputs": [
    {
     "name": "stdout",
     "output_type": "stream",
     "text": [
      "                            OLS Regression Results                            \n",
      "==============================================================================\n",
      "Dep. Variable:                     LE   R-squared:                       0.693\n",
      "Model:                            OLS   Adj. R-squared:                  0.689\n",
      "Method:                 Least Squares   F-statistic:                     199.4\n",
      "Date:                Sat, 14 Nov 2015   Prob (F-statistic):           4.52e-46\n",
      "Time:                        20:53:12   Log-Likelihood:                -529.65\n",
      "No. Observations:                 180   AIC:                             1065.\n",
      "Df Residuals:                     177   BIC:                             1075.\n",
      "Df Model:                           2                                         \n",
      "Covariance Type:            nonrobust                                         \n",
      "==============================================================================\n",
      "                 coef    std err          t      P>|t|      [95.0% Conf. Int.]\n",
      "------------------------------------------------------------------------------\n",
      "const         39.9726      4.111      9.724      0.000        31.861    48.085\n",
      "INC            2.9190      0.520      5.619      0.000         1.894     3.944\n",
      "IR             0.1330      0.023      5.740      0.000         0.087     0.179\n",
      "==============================================================================\n",
      "Omnibus:                       25.781   Durbin-Watson:                   1.976\n",
      "Prob(Omnibus):                  0.000   Jarque-Bera (JB):               37.028\n",
      "Skew:                          -0.821   Prob(JB):                     9.11e-09\n",
      "Kurtosis:                       4.498   Cond. No.                         525.\n",
      "==============================================================================\n",
      "\n",
      "Warnings:\n",
      "[1] Standard Errors assume that the covariance matrix of the errors is correctly specified.\n"
     ]
    }
   ],
   "source": [
    "X = sm.add_constant(data[['INC','IR']]) \n",
    "y = data['LE']\n",
    "results = sm.OLS(y, X).fit()\n",
    "#results.summary()\n",
    "print(results.summary()) \n"
   ]
  },
  {
   "cell_type": "markdown",
   "metadata": {},
   "source": [
    "#References\n",
    "\n",
    "http://matplotlib.org/users/pyplot_tutorial.html\n",
    "\n",
    "http://stackoverflow.com/questions/19068862/how-to-overplot-a-line-on-a-scatter-plot-in-python\n",
    "\n",
    "http://stackoverflow.com/questions/11479064/multivariate-linear-regression-in-python\n",
    "\n",
    "http://stackoverflow.com/questions/20701484/why-do-i-get-only-one-parameter-from-a-statsmodels-ols-fit\n"
   ]
  },
  {
   "cell_type": "code",
   "execution_count": null,
   "metadata": {
    "collapsed": true
   },
   "outputs": [],
   "source": []
  }
 ],
 "metadata": {
  "kernelspec": {
   "display_name": "Python 3",
   "language": "python",
   "name": "python3"
  },
  "language_info": {
   "codemirror_mode": {
    "name": "ipython",
    "version": 3
   },
   "file_extension": ".py",
   "mimetype": "text/x-python",
   "name": "python",
   "nbconvert_exporter": "python",
   "pygments_lexer": "ipython3",
   "version": "3.4.3"
  }
 },
 "nbformat": 4,
 "nbformat_minor": 0
}
